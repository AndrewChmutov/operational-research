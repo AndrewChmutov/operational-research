{
 "cells": [
  {
   "cell_type": "markdown",
   "metadata": {},
   "source": [
    "# Lab2 - PuLP Library"
   ]
  },
  {
   "cell_type": "markdown",
   "metadata": {},
   "source": [
    "<b>Information on group members:</b><br>\n",
    "1) 154974, Andrii Chmutov <br>\n",
    "2) 158669, Vasyl Korzavatykh"
   ]
  },
  {
   "cell_type": "code",
   "execution_count": 1,
   "metadata": {
    "ExecuteTime": {
     "end_time": "2024-10-17T21:54:41.525245Z",
     "start_time": "2024-10-17T21:54:41.505442Z"
    }
   },
   "outputs": [],
   "source": [
    "from pulp import (\n",
    "    LpAffineExpression,\n",
    "    LpConstraint,\n",
    "    LpMaximize,\n",
    "    LpProblem,\n",
    "    LpStatus,\n",
    "    LpVariable,\n",
    "    lpSum,\n",
    ")"
   ]
  },
  {
   "cell_type": "markdown",
   "metadata": {},
   "source": [
    "## Introduction - brief tutorial on PuLP"
   ]
  },
  {
   "cell_type": "code",
   "execution_count": 2,
   "metadata": {
    "ExecuteTime": {
     "end_time": "2024-10-17T21:54:41.558315Z",
     "start_time": "2024-10-17T21:54:41.553592Z"
    }
   },
   "outputs": [],
   "source": [
    "# Create an LpProblem instance; LpMaximize = objective function is to be maximized\n",
    "model = LpProblem(name=\"some-problem\", sense=LpMaximize)"
   ]
  },
  {
   "cell_type": "code",
   "execution_count": 3,
   "metadata": {
    "ExecuteTime": {
     "end_time": "2024-10-17T21:54:41.662097Z",
     "start_time": "2024-10-17T21:54:41.659407Z"
    }
   },
   "outputs": [],
   "source": [
    "# Initialize the decision variables. We can set the name and lower bound as well.\n",
    "# To create an array of variables, you can use comprehensions of LpProblem.dicts.\n",
    "\n",
    "x1 = LpVariable(name=\"x1\", lowBound=0)\n",
    "x2 = LpVariable(name=\"x2\", lowBound=0)"
   ]
  },
  {
   "cell_type": "code",
   "execution_count": 4,
   "metadata": {
    "ExecuteTime": {
     "end_time": "2024-10-17T21:54:41.720554Z",
     "start_time": "2024-10-17T21:54:41.714071Z"
    }
   },
   "outputs": [
    {
     "data": {
      "text/plain": [
       "pulp.pulp.LpAffineExpression"
      ]
     },
     "execution_count": 4,
     "metadata": {},
     "output_type": "execute_result"
    }
   ],
   "source": [
    "# An example expression\n",
    "expression = 3 * x1 + 2 * x2\n",
    "type(expression)"
   ]
  },
  {
   "cell_type": "code",
   "execution_count": 5,
   "metadata": {
    "ExecuteTime": {
     "end_time": "2024-10-17T21:54:41.777351Z",
     "start_time": "2024-10-17T21:54:41.771363Z"
    }
   },
   "outputs": [
    {
     "data": {
      "text/plain": [
       "pulp.pulp.LpConstraint"
      ]
     },
     "execution_count": 5,
     "metadata": {},
     "output_type": "execute_result"
    }
   ],
   "source": [
    "# An example constraint\n",
    "constraint = 2 * x1 + 3 * x2 >= 5\n",
    "type(constraint)"
   ]
  },
  {
   "cell_type": "markdown",
   "metadata": {},
   "source": [
    "Ok, let's now use PuLP to solve the below problem:\n",
    "$max$ $4x_1 + 2x_2$ <br>\n",
    "s.t.<br>\n",
    "     $1x_1 + 1x_2 \\geq 1$ <br>\n",
    "     $2x_1 + 1x_2 \\leq 6$ <br>\n",
    "     $-1x_1 + x_2 = 1$ <br>\n",
    "     $x_1 \\geq 0$ <br>\n",
    "     $x_2 \\geq 0$ "
   ]
  },
  {
   "cell_type": "code",
   "execution_count": 6,
   "metadata": {
    "ExecuteTime": {
     "end_time": "2024-10-17T21:54:41.833734Z",
     "start_time": "2024-10-17T21:54:41.826828Z"
    }
   },
   "outputs": [
    {
     "data": {
      "text/plain": [
       "test-problem:\n",
       "MAXIMIZE\n",
       "4*x1 + 2*x2 + 0\n",
       "SUBJECT TO\n",
       "#1_constraint: x1 + x2 >= 1\n",
       "\n",
       "#2_constraint: 2 x1 + x2 <= 6\n",
       "\n",
       "#3_constraint: - x1 + x2 = 1\n",
       "\n",
       "VARIABLES\n",
       "x1 Continuous\n",
       "x2 Continuous"
      ]
     },
     "execution_count": 6,
     "metadata": {},
     "output_type": "execute_result"
    }
   ],
   "source": [
    "# Problem\n",
    "model = LpProblem(name=\"test-problem\", sense=LpMaximize)\n",
    "\n",
    "x1 = LpVariable(name=\"x1\", lowBound=0)\n",
    "x2 = LpVariable(name=\"x2\", lowBound=0)\n",
    "\n",
    "model += (1 * x1 + 1 * x2 >= 1, \"#1 constraint\")\n",
    "model += (2 * x1 + 1 * x2 <= 6, \"#2 constraint\")\n",
    "model += (-1 * x1 + 1 * x2 == 1, \"#3 constraint\")\n",
    "\n",
    "# Objective function\n",
    "obj_func = 4 * x1 + 2 * x2\n",
    "model += obj_func\n",
    "\n",
    "model"
   ]
  },
  {
   "cell_type": "code",
   "execution_count": 7,
   "metadata": {
    "ExecuteTime": {
     "end_time": "2024-10-17T21:54:41.898857Z",
     "start_time": "2024-10-17T21:54:41.890765Z"
    }
   },
   "outputs": [
    {
     "name": "stdout",
     "output_type": "stream",
     "text": [
      "Welcome to the CBC MILP Solver \n",
      "Version: 2.10.3 \n",
      "Build Date: Dec 15 2019 \n",
      "\n",
      "command line - /home/warlock/prog/venvs/tf/lib/python3.12/site-packages/pulp/solverdir/cbc/linux/64/cbc /tmp/fde40ed4611f4e14bac4b442bc340300-pulp.mps -max -timeMode elapsed -branch -printingOptions all -solution /tmp/fde40ed4611f4e14bac4b442bc340300-pulp.sol (default strategy 1)\n",
      "At line 2 NAME          MODEL\n",
      "At line 3 ROWS\n",
      "At line 8 COLUMNS\n",
      "At line 17 RHS\n",
      "At line 21 BOUNDS\n",
      "At line 22 ENDATA\n",
      "Problem MODEL has 3 rows, 2 columns and 6 elements\n",
      "Coin0008I MODEL read with 0 errors\n",
      "Option for timeMode changed from cpu to elapsed\n",
      "Presolve 0 (-3) rows, 0 (-2) columns and 0 (-6) elements\n",
      "Empty problem - 0 rows, 0 columns and 0 elements\n",
      "Optimal - objective value 12\n",
      "After Postsolve, objective 12, infeasibilities - dual 0 (0), primal 0 (0)\n",
      "Optimal objective 12 - 0 iterations time 0.002, Presolve 0.00\n",
      "Option for printingOptions changed from normal to all\n",
      "Total time (CPU seconds):       0.00   (Wallclock seconds):       0.00\n",
      "\n"
     ]
    }
   ],
   "source": [
    "# Solve the problem\n",
    "status = model.solve()"
   ]
  },
  {
   "cell_type": "code",
   "execution_count": 8,
   "metadata": {
    "ExecuteTime": {
     "end_time": "2024-10-17T21:54:41.960499Z",
     "start_time": "2024-10-17T21:54:41.957100Z"
    }
   },
   "outputs": [
    {
     "name": "stdout",
     "output_type": "stream",
     "text": [
      "status: 1, Optimal\n"
     ]
    }
   ],
   "source": [
    "# Print status\n",
    "print(f\"status: {model.status}, {LpStatus[model.status]}\")"
   ]
  },
  {
   "cell_type": "code",
   "execution_count": 9,
   "metadata": {
    "ExecuteTime": {
     "end_time": "2024-10-17T21:54:42.018954Z",
     "start_time": "2024-10-17T21:54:42.014037Z"
    }
   },
   "outputs": [
    {
     "name": "stdout",
     "output_type": "stream",
     "text": [
      "objective: 12.000000199999999\n"
     ]
    }
   ],
   "source": [
    "# Print objective value\n",
    "print(f\"objective: {model.objective.value()}\")"
   ]
  },
  {
   "cell_type": "code",
   "execution_count": 10,
   "metadata": {
    "ExecuteTime": {
     "end_time": "2024-10-17T21:54:42.079062Z",
     "start_time": "2024-10-17T21:54:42.074872Z"
    }
   },
   "outputs": [
    {
     "name": "stdout",
     "output_type": "stream",
     "text": [
      "#1_constraint: 3.3333334\n",
      "#2_constraint: 9.999999983634211e-08\n",
      "#3_constraint: 0.0\n"
     ]
    }
   ],
   "source": [
    "# Print constraint values\n",
    "for name, constraint in model.constraints.items():\n",
    "    print(f\"{name}: {constraint.value()}\")"
   ]
  },
  {
   "cell_type": "code",
   "execution_count": 11,
   "metadata": {
    "ExecuteTime": {
     "end_time": "2024-10-17T21:54:42.143757Z",
     "start_time": "2024-10-17T21:54:42.138779Z"
    }
   },
   "outputs": [
    {
     "data": {
      "text/plain": [
       "[x1, x2]"
      ]
     },
     "execution_count": 11,
     "metadata": {},
     "output_type": "execute_result"
    }
   ],
   "source": [
    "model.variables()"
   ]
  },
  {
   "cell_type": "code",
   "execution_count": 12,
   "metadata": {
    "ExecuteTime": {
     "end_time": "2024-10-17T21:54:42.203386Z",
     "start_time": "2024-10-17T21:54:42.199073Z"
    }
   },
   "outputs": [
    {
     "name": "stdout",
     "output_type": "stream",
     "text": [
      "1.6666667\n",
      "2.6666667\n"
     ]
    }
   ],
   "source": [
    "print(x1.value())\n",
    "print(x2.value())"
   ]
  },
  {
   "cell_type": "markdown",
   "metadata": {},
   "source": [
    "### The same code but using dictionaries and other nice tricks\n"
   ]
  },
  {
   "cell_type": "code",
   "execution_count": 13,
   "metadata": {
    "ExecuteTime": {
     "end_time": "2024-10-17T21:54:42.262032Z",
     "start_time": "2024-10-17T21:54:42.258452Z"
    }
   },
   "outputs": [],
   "source": [
    "model = LpProblem(name=\"some-problem\", sense=LpMaximize)"
   ]
  },
  {
   "cell_type": "code",
   "execution_count": 14,
   "metadata": {
    "ExecuteTime": {
     "end_time": "2024-10-17T21:54:42.317861Z",
     "start_time": "2024-10-17T21:54:42.312594Z"
    }
   },
   "outputs": [
    {
     "data": {
      "text/plain": [
       "{'First': x_First, 'Second': x_Second}"
      ]
     },
     "execution_count": 14,
     "metadata": {},
     "output_type": "execute_result"
    }
   ],
   "source": [
    "var_names = [\"First\", \"Second\"]\n",
    "x = LpVariable.dicts(\"x\", var_names, 0)\n",
    "x"
   ]
  },
  {
   "cell_type": "code",
   "execution_count": 15,
   "metadata": {
    "ExecuteTime": {
     "end_time": "2024-10-17T21:54:42.383924Z",
     "start_time": "2024-10-17T21:54:42.375922Z"
    }
   },
   "outputs": [
    {
     "data": {
      "text/plain": [
       "some-problem:\n",
       "MAXIMIZE\n",
       "4*x_First + 2*x_Second + 0\n",
       "SUBJECT TO\n",
       "GE: x_First + x_Second >= 1\n",
       "\n",
       "LE: 2 x_First + x_Second <= 6\n",
       "\n",
       "EQ: - x_First + x_Second = 1\n",
       "\n",
       "VARIABLES\n",
       "x_First Continuous\n",
       "x_Second Continuous"
      ]
     },
     "execution_count": 15,
     "metadata": {},
     "output_type": "execute_result"
    }
   ],
   "source": [
    "const_names = [\"GE\", \"LE\", \"EQ\"]\n",
    "sense = [1, -1, 0]  # GE, LE, EQ\n",
    "coefs = [[1, 1], [2, 1], [-1, 1]]  # Matrix coefs\n",
    "rhs = [1, 6, 1]\n",
    "\n",
    "for c, s, r, cn in zip(coefs, sense, rhs, const_names):\n",
    "    expr = lpSum([x[var_names[i]] * c[i] for i in range(2)])\n",
    "    model += LpConstraint(e=expr, sense=s, name=cn, rhs=r)\n",
    "\n",
    "obj_coefs = [4, 2]\n",
    "model += lpSum([x[var_names[i]] * obj_coefs[i] for i in range(2)])\n",
    "\n",
    "model"
   ]
  },
  {
   "cell_type": "code",
   "execution_count": 16,
   "metadata": {
    "ExecuteTime": {
     "end_time": "2024-10-17T21:54:42.451287Z",
     "start_time": "2024-10-17T21:54:42.439435Z"
    }
   },
   "outputs": [
    {
     "name": "stdout",
     "output_type": "stream",
     "text": [
      "Welcome to the CBC MILP Solver \n",
      "Version: 2.10.3 \n",
      "Build Date: Dec 15 2019 \n",
      "\n",
      "command line - /home/warlock/prog/venvs/tf/lib/python3.12/site-packages/pulp/solverdir/cbc/linux/64/cbc /tmp/74823b6da19a452290d32f866ac53980-pulp.mps -max -timeMode elapsed -branch -printingOptions all -solution /tmp/74823b6da19a452290d32f866ac53980-pulp.sol (default strategy 1)\n",
      "At line 2 NAME          MODEL\n",
      "At line 3 ROWS\n",
      "At line 8 COLUMNS\n",
      "At line 17 RHS\n",
      "At line 21 BOUNDS\n",
      "At line 22 ENDATA\n",
      "Problem MODEL has 3 rows, 2 columns and 6 elements\n",
      "Coin0008I MODEL read with 0 errors\n",
      "Option for timeMode changed from cpu to elapsed\n",
      "Presolve 0 (-3) rows, 0 (-2) columns and 0 (-6) elements\n",
      "Empty problem - 0 rows, 0 columns and 0 elements\n",
      "Optimal - objective value 12\n",
      "After Postsolve, objective 12, infeasibilities - dual 0 (0), primal 0 (0)\n",
      "Optimal objective 12 - 0 iterations time 0.002, Presolve 0.00\n",
      "Option for printingOptions changed from normal to all\n",
      "Total time (CPU seconds):       0.00   (Wallclock seconds):       0.00\n",
      "\n",
      "status: 1, Optimal\n",
      "objective: 12.000000199999999\n",
      "1.6666667\n",
      "2.6666667\n"
     ]
    }
   ],
   "source": [
    "status = model.solve()\n",
    "print(f\"status: {model.status}, {LpStatus[model.status]}\")\n",
    "print(f\"objective: {model.objective.value()}\")\n",
    "for n in var_names:\n",
    "    print(x[n].value())"
   ]
  },
  {
   "cell_type": "markdown",
   "metadata": {},
   "source": [
    "# Homework - use the PuLP library to solve the following OR problem "
   ]
  },
  {
   "cell_type": "markdown",
   "metadata": {},
   "source": [
    "Johnson & Sons company manufactures 6 types of toys. Each toy is produced by utilizing at least one Machine 1-4, requiring a different production time (see Table below). For instance, product A requires 4 minutes on Machine 1, 4 minutes on Machine 2, 0 Minutes on Machine 3, and 0 minutes on Machine 4 (all machines must be utilized to produce a toy unless the production time equals 0). Each machine is available for a different number of hours per week. The company aims to identify the number (product-mix) of toys that must be manufactured to maximize the income (can be continuous). Notably, each toy can be sold for a different price. Due to market expectations, the company wants to manufacture twice as many F toys as A. Furthermore, the number of toys B should equal C. Solve this problem using the PuLP library. Prepare a report (in the jupyter notebook) containing information on the following:\n",
    "<ol>\n",
    "<li>The number of toys to manufacture;</li>\n",
    "<li>The expected income;</li>\n",
    "<li>The production time required on each machine;</li>\n",
    "</ol>\n",
    "Consider the total and partial values, i.e., considered for each toy A-F separately (e.g., income resulting from selling toy A). Also, answer the following questions concerning the found solution:\n",
    "<ol>\n",
    "<li>Which toy(s) production should be focused on?  </li>\n",
    "<li>Is there a toy that can be excluded from consideration for production? </li>\n",
    "<li>Is there a machine that is not fully utilized?</li>\n",
    "</ol>"
   ]
  },
  {
   "cell_type": "markdown",
   "metadata": {},
   "source": [
    "| Toy | Machine 1 | Machine 2 | Machine 3 | Machine 4 | Selling price |\n",
    "| --- | --- | --- | --- | --- | --- |\n",
    "| A | 4 (minutes!) | 4 | 0 | 0 | 2.50 USD |\n",
    "| B | 0 | 3 | 3 | 0 | 1.00 USD |\n",
    "| C | 5 | 0 | 2 | 5 | 4.00 USD |\n",
    "| D | 2 | 4 | 0 | 4 | 3.00 USD |\n",
    "| E | 0 | 4 | 5 | 2 | 3.50 USD |\n",
    "| F | 2 | 2 | 1 | 1 | 4.00 USD |\n",
    "| Production time limit (hours!) | 120 | 60 |  80 |  120 |  |"
   ]
  },
  {
   "cell_type": "markdown",
   "metadata": {},
   "source": [
    "## Data"
   ]
  },
  {
   "cell_type": "code",
   "execution_count": 17,
   "metadata": {
    "ExecuteTime": {
     "end_time": "2024-10-17T21:54:43.108574Z",
     "start_time": "2024-10-17T21:54:42.499163Z"
    }
   },
   "outputs": [],
   "source": [
    "import pandas as pd\n",
    "\n",
    "\n",
    "def machine_data() -> tuple[pd.DataFrame, pd.Series, pd.Series]:\n",
    "    names = list(\"ABCDEF\")\n",
    "    machines = [f\"Machine_{i}\" for i in range(4)]\n",
    "    coefficients = [\n",
    "        [4, 4, 0, 0],\n",
    "        [0, 3, 3, 0],\n",
    "        [5, 0, 2, 5],\n",
    "        [2, 4, 0, 4],\n",
    "        [0, 4, 5, 2],\n",
    "        [2, 2, 1, 1],\n",
    "    ]\n",
    "    return (\n",
    "        pd.DataFrame(\n",
    "            coefficients,\n",
    "            columns=machines,\n",
    "            index=pd.Index(names, name=\"Toy\"),\n",
    "            dtype=float,\n",
    "        ),\n",
    "        pd.Series(\n",
    "            [120, 60, 80, 120],\n",
    "            index=pd.Index(machines, name=\"Machine\"),\n",
    "            dtype=float,\n",
    "            name=\"Production time limit\",\n",
    "        )\n",
    "        * 60,\n",
    "        pd.Series(\n",
    "            [2.5, 1.0, 4.0, 3.0, 3.5, 4.0],\n",
    "            index=pd.Index(names, name=\"Toy\"),\n",
    "            dtype=float,\n",
    "            name=\"Selling price\",\n",
    "        ),\n",
    "    )\n",
    "\n",
    "\n",
    "def market_data() -> tuple[pd.DataFrame, pd.Series]:\n",
    "    names = list(\"ABCDEF\")\n",
    "    constraint_names = [f\"Constraint_{i}\" for i in range(2)]\n",
    "    coefficients = [\n",
    "        [1, 0],\n",
    "        [0, -1],\n",
    "        [0, 1],\n",
    "        [0, 0],\n",
    "        [0, 0],\n",
    "        [-2, 0],\n",
    "    ]\n",
    "    return (\n",
    "        pd.DataFrame(\n",
    "            coefficients,\n",
    "            columns=constraint_names,\n",
    "            index=pd.Index(names, name=\"Toy\"),\n",
    "            dtype=float,\n",
    "        ),\n",
    "        pd.Series(\n",
    "            [0] * len(constraint_names),\n",
    "            index=pd.Index(constraint_names, name=\"Constraint\"),\n",
    "            dtype=float,\n",
    "            name=\"Ratio\",\n",
    "        ),\n",
    "    )"
   ]
  },
  {
   "cell_type": "markdown",
   "metadata": {},
   "source": [
    "## Processing"
   ]
  },
  {
   "cell_type": "code",
   "execution_count": 18,
   "metadata": {
    "ExecuteTime": {
     "end_time": "2024-10-17T21:54:43.135365Z",
     "start_time": "2024-10-17T21:54:43.129371Z"
    }
   },
   "outputs": [],
   "source": [
    "import pandas as pd\n",
    "\n",
    "\n",
    "def denormalize_name(name: str) -> str:\n",
    "    return name.replace(\"_\", \" \")\n",
    "\n",
    "\n",
    "def denormalize_name_series(series: pd.Series) -> pd.Series:\n",
    "    series = series.copy()\n",
    "    series.name = denormalize_name(series.name)\n",
    "    series.index = [denormalize_name(x) for x in rhs_time.index]\n",
    "    return series"
   ]
  },
  {
   "cell_type": "markdown",
   "metadata": {},
   "source": [
    "## Modeling"
   ]
  },
  {
   "cell_type": "code",
   "execution_count": 19,
   "metadata": {
    "ExecuteTime": {
     "end_time": "2024-10-17T21:54:43.190155Z",
     "start_time": "2024-10-17T21:54:43.174531Z"
    }
   },
   "outputs": [],
   "source": [
    "def make_variables(df: pd.DataFrame, prefix: str = \"x\") -> pd.Series:\n",
    "    return pd.Series(LpVariable.dicts(prefix, df.index.tolist(), 0))\n",
    "\n",
    "\n",
    "def make_constraints(\n",
    "    df: pd.DataFrame, rhs: pd.Series, variables: pd.Series, sense: int\n",
    ") -> list[LpAffineExpression]:\n",
    "    assert df.shape[0] == variables.shape[0]\n",
    "    assert df.shape[1] == rhs.shape[0]\n",
    "\n",
    "    return [\n",
    "        LpConstraint(\n",
    "            e=lpSum([\n",
    "                variables[var_name] * df.loc[var_name, constr_name]\n",
    "                for var_name in df.index\n",
    "            ]),\n",
    "            sense=sense,\n",
    "            name=constr_name,\n",
    "            rhs=rhs[constr_name],\n",
    "        )\n",
    "        for constr_name in rhs.index\n",
    "    ]\n",
    "\n",
    "\n",
    "def make_objective(\n",
    "    variables: pd.Series, objective_coefficients: pd.Series\n",
    ") -> LpAffineExpression:\n",
    "    assert variables.shape[0] == objective_coefficients.shape[0]\n",
    "    assert frozenset(variables.index) == frozenset(objective_coefficients.index)\n",
    "\n",
    "    return lpSum([\n",
    "        variables[var_name] * objective_coefficients[var_name]\n",
    "        for var_name in variables.index\n",
    "    ])\n",
    "\n",
    "\n",
    "def make_model(\n",
    "    constraints: list[LpAffineExpression],\n",
    "    objective_function: LpAffineExpression,\n",
    "    name: str,\n",
    "    sense: int = LpMaximize,\n",
    ") -> LpProblem:\n",
    "    model = LpProblem(name=name, sense=sense)\n",
    "\n",
    "    for constraint in constraints:\n",
    "        model += constraint\n",
    "    model += objective_function\n",
    "\n",
    "    return model\n",
    "\n",
    "\n",
    "def make_model_facade(\n",
    "    df_machines: pd.DataFrame,\n",
    "    df_market: pd.DataFrame,\n",
    "    rhs_time: pd.Series,\n",
    "    rhs_market: pd.Series,\n",
    "    obj_price: pd.Series,\n",
    "    name: str,\n",
    ") -> LpProblem:\n",
    "    # Constraints\n",
    "    variables = make_variables(df_market)\n",
    "    constraints = make_constraints(\n",
    "        df_machines, rhs_time, variables, -1\n",
    "    ) + make_constraints(df_market, rhs_market, variables, 0)\n",
    "\n",
    "    # Objective_function\n",
    "    objective_function = make_objective(variables, obj_price)\n",
    "\n",
    "    # Modeling\n",
    "    return make_model(constraints, objective_function, name=name, sense=LpMaximize)"
   ]
  },
  {
   "cell_type": "markdown",
   "metadata": {},
   "source": [
    "## Solution"
   ]
  },
  {
   "cell_type": "code",
   "execution_count": 27,
   "metadata": {
    "ExecuteTime": {
     "end_time": "2024-10-17T21:59:31.755295Z",
     "start_time": "2024-10-17T21:59:31.746473Z"
    }
   },
   "outputs": [
    {
     "name": "stdout",
     "output_type": "stream",
     "text": [
      "Welcome to the CBC MILP Solver \n",
      "Version: 2.10.3 \n",
      "Build Date: Dec 15 2019 \n",
      "\n",
      "command line - /home/warlock/prog/venvs/tf/lib/python3.12/site-packages/pulp/solverdir/cbc/linux/64/cbc /tmp/b2fb3aeb1a6d46649daf642abab584a6-pulp.mps -max -timeMode elapsed -branch -printingOptions all -solution /tmp/b2fb3aeb1a6d46649daf642abab584a6-pulp.sol (default strategy 1)\n",
      "At line 2 NAME          MODEL\n",
      "At line 3 ROWS\n",
      "At line 11 COLUMNS\n",
      "At line 39 RHS\n",
      "At line 46 BOUNDS\n",
      "At line 47 ENDATA\n",
      "Problem MODEL has 6 rows, 6 columns and 21 elements\n",
      "Coin0008I MODEL read with 0 errors\n",
      "Option for timeMode changed from cpu to elapsed\n",
      "Presolve 4 (-2) rows, 4 (-2) columns and 14 (-7) elements\n",
      "0  Obj -0 Dual inf 6.6916741 (4)\n",
      "2  Obj 5412.766\n",
      "Optimal - objective value 5412.766\n",
      "After Postsolve, objective 5412.766, infeasibilities - dual 0 (0), primal 0 (0)\n",
      "Optimal objective 5412.765957 - 2 iterations time 0.002, Presolve 0.00\n",
      "Option for printingOptions changed from normal to all\n",
      "Total time (CPU seconds):       0.00   (Wallclock seconds):       0.00\n",
      "\n"
     ]
    }
   ],
   "source": [
    "# Processing\n",
    "df_machines, rhs_time, obj_price = machine_data()\n",
    "df_market, rhs_market = market_data()\n",
    "\n",
    "# Modeling\n",
    "model = make_model_facade(\n",
    "    df_machines, df_market, rhs_time, rhs_market, obj_price, \"Johnsons&Sons\"\n",
    ")\n",
    "_ = model.solve()"
   ]
  },
  {
   "cell_type": "markdown",
   "metadata": {},
   "source": [
    "## Report"
   ]
  },
  {
   "cell_type": "markdown",
   "metadata": {},
   "source": [
    "### Production and income prediction"
   ]
  },
  {
   "cell_type": "markdown",
   "metadata": {},
   "source": [
    "#### 1. The number of toys to manufacture"
   ]
  },
  {
   "cell_type": "code",
   "execution_count": 21,
   "metadata": {
    "ExecuteTime": {
     "end_time": "2024-10-17T21:54:43.369977Z",
     "start_time": "2024-10-17T21:54:43.348032Z"
    }
   },
   "outputs": [
    {
     "data": {
      "text/html": [
       "<div>\n",
       "<style scoped>\n",
       "    .dataframe tbody tr th:only-of-type {\n",
       "        vertical-align: middle;\n",
       "    }\n",
       "\n",
       "    .dataframe tbody tr th {\n",
       "        vertical-align: top;\n",
       "    }\n",
       "\n",
       "    .dataframe thead th {\n",
       "        text-align: right;\n",
       "    }\n",
       "</style>\n",
       "<table border=\"1\" class=\"dataframe\">\n",
       "  <thead>\n",
       "    <tr style=\"text-align: right;\">\n",
       "      <th></th>\n",
       "      <th>Count</th>\n",
       "    </tr>\n",
       "  </thead>\n",
       "  <tbody>\n",
       "    <tr>\n",
       "      <th>A</th>\n",
       "      <td>153.191490</td>\n",
       "    </tr>\n",
       "    <tr>\n",
       "      <th>B</th>\n",
       "      <td>944.680850</td>\n",
       "    </tr>\n",
       "    <tr>\n",
       "      <th>C</th>\n",
       "      <td>944.680850</td>\n",
       "    </tr>\n",
       "    <tr>\n",
       "      <th>D</th>\n",
       "      <td>0.000000</td>\n",
       "    </tr>\n",
       "    <tr>\n",
       "      <th>E</th>\n",
       "      <td>0.000000</td>\n",
       "    </tr>\n",
       "    <tr>\n",
       "      <th>F</th>\n",
       "      <td>76.595745</td>\n",
       "    </tr>\n",
       "    <tr>\n",
       "      <th>SUM</th>\n",
       "      <td>2119.148935</td>\n",
       "    </tr>\n",
       "  </tbody>\n",
       "</table>\n",
       "</div>"
      ],
      "text/plain": [
       "           Count\n",
       "A     153.191490\n",
       "B     944.680850\n",
       "C     944.680850\n",
       "D       0.000000\n",
       "E       0.000000\n",
       "F      76.595745\n",
       "SUM  2119.148935"
      ]
     },
     "execution_count": 21,
     "metadata": {},
     "output_type": "execute_result"
    }
   ],
   "source": [
    "def make_toys_count(model: LpProblem) -> pd.Series:\n",
    "    index = [str(x).removeprefix(\"x_\") for x in model.variables()]\n",
    "    return pd.Series(map(LpVariable.value, model.variables()), index=index, name=\"Count\")\n",
    "\n",
    "\n",
    "# Add footer\n",
    "pd.concat([\n",
    "    make_toys_count(model),\n",
    "    pd.Series([make_toys_count(model).sum()], index=[\"SUM\"], name=\"Count\"),\n",
    "]).to_frame()"
   ]
  },
  {
   "cell_type": "markdown",
   "metadata": {},
   "source": [
    "#### 2. Expected income\n",
    "The expected value of the income is approximately equal to $5412.77$\\$\n"
   ]
  },
  {
   "cell_type": "code",
   "execution_count": 22,
   "metadata": {
    "ExecuteTime": {
     "end_time": "2024-10-17T21:54:43.476766Z",
     "start_time": "2024-10-17T21:54:43.470107Z"
    }
   },
   "outputs": [
    {
     "data": {
      "text/plain": [
       "5412.765955"
      ]
     },
     "execution_count": 22,
     "metadata": {},
     "output_type": "execute_result"
    }
   ],
   "source": [
    "model.objective.value()"
   ]
  },
  {
   "cell_type": "markdown",
   "metadata": {},
   "source": [
    "\n",
    "#### 3. The production time required on each machine\n",
    "Here are presented busy hours of each of the machine per week.\n"
   ]
  },
  {
   "cell_type": "code",
   "execution_count": 23,
   "metadata": {
    "ExecuteTime": {
     "end_time": "2024-10-17T21:54:43.534099Z",
     "start_time": "2024-10-17T21:54:43.519239Z"
    }
   },
   "outputs": [
    {
     "data": {
      "text/html": [
       "<div>\n",
       "<style scoped>\n",
       "    .dataframe tbody tr th:only-of-type {\n",
       "        vertical-align: middle;\n",
       "    }\n",
       "\n",
       "    .dataframe tbody tr th {\n",
       "        vertical-align: top;\n",
       "    }\n",
       "\n",
       "    .dataframe thead th {\n",
       "        text-align: right;\n",
       "    }\n",
       "</style>\n",
       "<table border=\"1\" class=\"dataframe\">\n",
       "  <thead>\n",
       "    <tr style=\"text-align: right;\">\n",
       "      <th></th>\n",
       "      <th>Hours</th>\n",
       "    </tr>\n",
       "  </thead>\n",
       "  <tbody>\n",
       "    <tr>\n",
       "      <th>Machine 0</th>\n",
       "      <td>91.49</td>\n",
       "    </tr>\n",
       "    <tr>\n",
       "      <th>Machine 1</th>\n",
       "      <td>60.00</td>\n",
       "    </tr>\n",
       "    <tr>\n",
       "      <th>Machine 2</th>\n",
       "      <td>80.00</td>\n",
       "    </tr>\n",
       "    <tr>\n",
       "      <th>Machine 3</th>\n",
       "      <td>80.00</td>\n",
       "    </tr>\n",
       "  </tbody>\n",
       "</table>\n",
       "</div>"
      ],
      "text/plain": [
       "           Hours\n",
       "Machine 0  91.49\n",
       "Machine 1  60.00\n",
       "Machine 2  80.00\n",
       "Machine 3  80.00"
      ]
     },
     "execution_count": 23,
     "metadata": {},
     "output_type": "execute_result"
    }
   ],
   "source": [
    "import numpy as np\n",
    "\n",
    "\n",
    "def make_hours(\n",
    "    model: LpProblem, df_machines: pd.Series, rhs_time: pd.Series\n",
    ") -> pd.Series:\n",
    "    hours = (\n",
    "        np.multiply(\n",
    "            df_machines.to_numpy(),\n",
    "            np.expand_dims(make_toys_count(model).to_numpy(), axis=1),\n",
    "        )\n",
    "        .sum(axis=0)\n",
    "        .__truediv__(60)\n",
    "        .round(2)\n",
    "    )\n",
    "\n",
    "    denormalized = denormalize_name_series(rhs_time)\n",
    "    return pd.Series(hours, name=\"Hours\", index=denormalized.index)\n",
    "\n",
    "\n",
    "make_hours(model, df_machines, rhs_time).to_frame()"
   ]
  },
  {
   "cell_type": "markdown",
   "metadata": {},
   "source": [
    "### Analysis"
   ]
  },
  {
   "cell_type": "markdown",
   "metadata": {},
   "source": [
    "#### 1. Which toy(s) production should be focused on?\n",
    "Based on the data presented below the cell, Toy C brings the most profit (approximately $3778.72$\\$), so, logically, company should focus on its production."
   ]
  },
  {
   "cell_type": "code",
   "execution_count": 24,
   "metadata": {
    "ExecuteTime": {
     "end_time": "2024-10-17T21:54:43.667298Z",
     "start_time": "2024-10-17T21:54:43.654548Z"
    }
   },
   "outputs": [
    {
     "data": {
      "text/html": [
       "<div>\n",
       "<style scoped>\n",
       "    .dataframe tbody tr th:only-of-type {\n",
       "        vertical-align: middle;\n",
       "    }\n",
       "\n",
       "    .dataframe tbody tr th {\n",
       "        vertical-align: top;\n",
       "    }\n",
       "\n",
       "    .dataframe thead th {\n",
       "        text-align: right;\n",
       "    }\n",
       "</style>\n",
       "<table border=\"1\" class=\"dataframe\">\n",
       "  <thead>\n",
       "    <tr style=\"text-align: right;\">\n",
       "      <th></th>\n",
       "      <th>Income $</th>\n",
       "    </tr>\n",
       "  </thead>\n",
       "  <tbody>\n",
       "    <tr>\n",
       "      <th>C</th>\n",
       "      <td>3778.72</td>\n",
       "    </tr>\n",
       "    <tr>\n",
       "      <th>B</th>\n",
       "      <td>944.68</td>\n",
       "    </tr>\n",
       "    <tr>\n",
       "      <th>A</th>\n",
       "      <td>382.98</td>\n",
       "    </tr>\n",
       "    <tr>\n",
       "      <th>F</th>\n",
       "      <td>306.38</td>\n",
       "    </tr>\n",
       "    <tr>\n",
       "      <th>D</th>\n",
       "      <td>0.00</td>\n",
       "    </tr>\n",
       "    <tr>\n",
       "      <th>E</th>\n",
       "      <td>0.00</td>\n",
       "    </tr>\n",
       "  </tbody>\n",
       "</table>\n",
       "</div>"
      ],
      "text/plain": [
       "   Income $\n",
       "C   3778.72\n",
       "B    944.68\n",
       "A    382.98\n",
       "F    306.38\n",
       "D      0.00\n",
       "E      0.00"
      ]
     },
     "execution_count": 24,
     "metadata": {},
     "output_type": "execute_result"
    }
   ],
   "source": [
    "(\n",
    "    (make_toys_count(model) * obj_price)\n",
    "    .rename(\"Income $\")\n",
    "    .round(2)\n",
    "    .sort_values(ascending=False)\n",
    "    .to_frame()\n",
    ")"
   ]
  },
  {
   "cell_type": "markdown",
   "metadata": {},
   "source": [
    "\n",
    "#### 2. Is there a toy that can be excluded from consideration for production?\n",
    "\n",
    "As we've already seen above, the optimal solution implies zero production of Toys D and E, so the Toy D and the Toy E can be excluded from consideration for production. To test that we would run the same model but without Toys D and E and the constraints they provide. The numbers for produced toys should stay the same.\n"
   ]
  },
  {
   "cell_type": "code",
   "execution_count": 25,
   "metadata": {
    "ExecuteTime": {
     "end_time": "2024-10-17T21:54:43.884086Z",
     "start_time": "2024-10-17T21:54:43.852106Z"
    }
   },
   "outputs": [
    {
     "name": "stdout",
     "output_type": "stream",
     "text": [
      "Welcome to the CBC MILP Solver \n",
      "Version: 2.10.3 \n",
      "Build Date: Dec 15 2019 \n",
      "\n",
      "command line - /home/warlock/prog/venvs/tf/lib/python3.12/site-packages/pulp/solverdir/cbc/linux/64/cbc /tmp/e527d92c6564497384f32aa287f2eb51-pulp.mps -max -timeMode elapsed -branch -printingOptions all -solution /tmp/e527d92c6564497384f32aa287f2eb51-pulp.sol (default strategy 1)\n",
      "At line 2 NAME          MODEL\n",
      "At line 3 ROWS\n",
      "At line 11 COLUMNS\n",
      "At line 31 RHS\n",
      "At line 38 BOUNDS\n",
      "At line 39 ENDATA\n",
      "Problem MODEL has 6 rows, 4 columns and 15 elements\n",
      "Coin0008I MODEL read with 0 errors\n",
      "Option for timeMode changed from cpu to elapsed\n",
      "Presolve 3 (-3) rows, 2 (-2) columns and 6 (-9) elements\n",
      "0  Obj -0 Dual inf 13.999998 (2)\n",
      "2  Obj 5412.766\n",
      "Optimal - objective value 5412.766\n",
      "After Postsolve, objective 5412.766, infeasibilities - dual 0 (0), primal 0 (0)\n",
      "Optimal objective 5412.765957 - 2 iterations time 0.002, Presolve 0.00\n",
      "Option for printingOptions changed from normal to all\n",
      "Total time (CPU seconds):       0.00   (Wallclock seconds):       0.00\n",
      "\n"
     ]
    },
    {
     "data": {
      "text/html": [
       "<div>\n",
       "<style scoped>\n",
       "    .dataframe tbody tr th:only-of-type {\n",
       "        vertical-align: middle;\n",
       "    }\n",
       "\n",
       "    .dataframe tbody tr th {\n",
       "        vertical-align: top;\n",
       "    }\n",
       "\n",
       "    .dataframe thead th {\n",
       "        text-align: right;\n",
       "    }\n",
       "</style>\n",
       "<table border=\"1\" class=\"dataframe\">\n",
       "  <thead>\n",
       "    <tr style=\"text-align: right;\">\n",
       "      <th></th>\n",
       "      <th>Income $</th>\n",
       "    </tr>\n",
       "  </thead>\n",
       "  <tbody>\n",
       "    <tr>\n",
       "      <th>C</th>\n",
       "      <td>3778.72</td>\n",
       "    </tr>\n",
       "    <tr>\n",
       "      <th>B</th>\n",
       "      <td>944.68</td>\n",
       "    </tr>\n",
       "    <tr>\n",
       "      <th>A</th>\n",
       "      <td>382.98</td>\n",
       "    </tr>\n",
       "    <tr>\n",
       "      <th>F</th>\n",
       "      <td>306.38</td>\n",
       "    </tr>\n",
       "  </tbody>\n",
       "</table>\n",
       "</div>"
      ],
      "text/plain": [
       "   Income $\n",
       "C   3778.72\n",
       "B    944.68\n",
       "A    382.98\n",
       "F    306.38"
      ]
     },
     "execution_count": 25,
     "metadata": {},
     "output_type": "execute_result"
    }
   ],
   "source": [
    "restricted_model = make_model_facade(\n",
    "    df_machines.drop([\"D\", \"E\"]),\n",
    "    df_market.drop([\"D\", \"E\"]),\n",
    "    rhs_time,\n",
    "    rhs_market,\n",
    "    restricted_obj := obj_price.drop([\"D\", \"E\"]),\n",
    "    \"restricted-Johnsons&Sons\",\n",
    ")\n",
    "restricted_model.solve()\n",
    "\n",
    "(\n",
    "    (make_toys_count(restricted_model) * restricted_obj)\n",
    "    .rename(\"Income $\")\n",
    "    .round(2)\n",
    "    .sort_values(ascending=False)\n",
    "    .to_frame()\n",
    ")"
   ]
  },
  {
   "cell_type": "markdown",
   "metadata": {},
   "source": [
    "#### 3. Is there a machine that is not fully utilized?\n",
    "As we can see from the data below, Machine 0 and Machine 3 were not used to maximal extend.\n"
   ]
  },
  {
   "cell_type": "code",
   "execution_count": 26,
   "metadata": {
    "ExecuteTime": {
     "end_time": "2024-10-17T21:54:44.192271Z",
     "start_time": "2024-10-17T21:54:44.166222Z"
    }
   },
   "outputs": [
    {
     "data": {
      "text/html": [
       "<div>\n",
       "<style scoped>\n",
       "    .dataframe tbody tr th:only-of-type {\n",
       "        vertical-align: middle;\n",
       "    }\n",
       "\n",
       "    .dataframe tbody tr th {\n",
       "        vertical-align: top;\n",
       "    }\n",
       "\n",
       "    .dataframe thead th {\n",
       "        text-align: right;\n",
       "    }\n",
       "</style>\n",
       "<table border=\"1\" class=\"dataframe\">\n",
       "  <thead>\n",
       "    <tr style=\"text-align: right;\">\n",
       "      <th></th>\n",
       "      <th>Production time limit</th>\n",
       "      <th>Hours used</th>\n",
       "      <th>Hours left</th>\n",
       "      <th>Utilization</th>\n",
       "    </tr>\n",
       "  </thead>\n",
       "  <tbody>\n",
       "    <tr>\n",
       "      <th>Machine 0</th>\n",
       "      <td>120.0</td>\n",
       "      <td>91.49</td>\n",
       "      <td>28.51</td>\n",
       "      <td>0.76</td>\n",
       "    </tr>\n",
       "    <tr>\n",
       "      <th>Machine 1</th>\n",
       "      <td>60.0</td>\n",
       "      <td>60.00</td>\n",
       "      <td>0.00</td>\n",
       "      <td>1.00</td>\n",
       "    </tr>\n",
       "    <tr>\n",
       "      <th>Machine 2</th>\n",
       "      <td>80.0</td>\n",
       "      <td>80.00</td>\n",
       "      <td>0.00</td>\n",
       "      <td>1.00</td>\n",
       "    </tr>\n",
       "    <tr>\n",
       "      <th>Machine 3</th>\n",
       "      <td>120.0</td>\n",
       "      <td>80.00</td>\n",
       "      <td>40.00</td>\n",
       "      <td>0.67</td>\n",
       "    </tr>\n",
       "  </tbody>\n",
       "</table>\n",
       "</div>"
      ],
      "text/plain": [
       "           Production time limit  Hours used  Hours left  Utilization\n",
       "Machine 0                  120.0       91.49       28.51         0.76\n",
       "Machine 1                   60.0       60.00        0.00         1.00\n",
       "Machine 2                   80.0       80.00        0.00         1.00\n",
       "Machine 3                  120.0       80.00       40.00         0.67"
      ]
     },
     "execution_count": 26,
     "metadata": {},
     "output_type": "execute_result"
    }
   ],
   "source": [
    "pd.concat(\n",
    "    [\n",
    "        denormalized := denormalize_name_series(rhs_time) / 60,\n",
    "        made := make_hours(model, df_machines, rhs_time).rename(\"Hours used\"),\n",
    "        pd.Series(denormalized - made, name=\"Hours left\"),\n",
    "        pd.Series(made / denormalized, name=\"Utilization\"),\n",
    "    ],\n",
    "    axis=1,\n",
    ").round(2)"
   ]
  }
 ],
 "metadata": {
  "kernelspec": {
   "display_name": "Python 3 (ipykernel)",
   "language": "python",
   "name": "python3"
  },
  "language_info": {
   "codemirror_mode": {
    "name": "ipython",
    "version": 3
   },
   "file_extension": ".py",
   "mimetype": "text/x-python",
   "name": "python",
   "nbconvert_exporter": "python",
   "pygments_lexer": "ipython3",
   "version": "3.12.7"
  }
 },
 "nbformat": 4,
 "nbformat_minor": 4
}
