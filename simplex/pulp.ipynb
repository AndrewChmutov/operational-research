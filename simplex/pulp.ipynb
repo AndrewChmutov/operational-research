{
 "cells": [
  {
   "cell_type": "markdown",
   "metadata": {},
   "source": [
    "# Lab2 - PuLP Library"
   ]
  },
  {
   "cell_type": "markdown",
   "metadata": {},
   "source": [
    "<b>Information on group members:</b><br>\n",
    "1) 154974, Andrii Chmutov <br>\n",
    "2) 158669, Vasyl Korzavatykh"
   ]
  },
  {
   "cell_type": "code",
   "execution_count": 1,
   "metadata": {
    "ExecuteTime": {
     "end_time": "2024-10-17T15:35:42.930293100Z",
     "start_time": "2024-10-17T15:35:40.796245Z"
    }
   },
   "outputs": [],
   "source": [
    "from pulp import *\n",
    "import numpy as np\n",
    "import pandas as pd"
   ]
  },
  {
   "cell_type": "markdown",
   "metadata": {},
   "source": [
    "## Introduction - brief tutorial on PuLP"
   ]
  },
  {
   "cell_type": "code",
   "execution_count": 2,
   "metadata": {
    "ExecuteTime": {
     "end_time": "2024-10-17T15:35:42.943610900Z",
     "start_time": "2024-10-17T15:35:42.932291900Z"
    }
   },
   "outputs": [],
   "source": [
    "# Create an LpProblem instance; LpMaximize = objective function is to be maximized\n",
    "model = LpProblem(name=\"some-problem\", sense=LpMaximize)"
   ]
  },
  {
   "cell_type": "code",
   "execution_count": 3,
   "metadata": {
    "ExecuteTime": {
     "end_time": "2024-10-17T15:35:42.957145500Z",
     "start_time": "2024-10-17T15:35:42.939614200Z"
    }
   },
   "outputs": [],
   "source": [
    "# Initialize the decision variables. We can set the name and lower bound as well.\n",
    "# To create an array of variables, you can use comprehensions of LpProblem.dicts.\n",
    "\n",
    "x1 = LpVariable(name=\"x1\", lowBound=0)\n",
    "x2 = LpVariable(name=\"x2\", lowBound=0)"
   ]
  },
  {
   "cell_type": "code",
   "execution_count": 4,
   "metadata": {
    "ExecuteTime": {
     "end_time": "2024-10-17T15:35:42.980868700Z",
     "start_time": "2024-10-17T15:35:42.950151300Z"
    }
   },
   "outputs": [
    {
     "data": {
      "text/plain": "pulp.pulp.LpAffineExpression"
     },
     "execution_count": 4,
     "metadata": {},
     "output_type": "execute_result"
    }
   ],
   "source": [
    "# An example expression\n",
    "expression = 3 * x1 + 2 * x2\n",
    "type(expression)"
   ]
  },
  {
   "cell_type": "code",
   "execution_count": 5,
   "metadata": {
    "ExecuteTime": {
     "end_time": "2024-10-17T15:35:42.980868700Z",
     "start_time": "2024-10-17T15:35:42.966328200Z"
    }
   },
   "outputs": [
    {
     "data": {
      "text/plain": "pulp.pulp.LpConstraint"
     },
     "execution_count": 5,
     "metadata": {},
     "output_type": "execute_result"
    }
   ],
   "source": [
    "# An example constraint\n",
    "constraint = 2 * x1 + 3 * x2 >= 5\n",
    "type(constraint)"
   ]
  },
  {
   "cell_type": "markdown",
   "metadata": {},
   "source": [
    "Ok, let's now use PuLP to solve the below problem:\n",
    "$max$ $4x_1 + 2x_2$ <br>\n",
    "s.t.<br>\n",
    "     $1x_1 + 1x_2 \\geq 1$ <br>\n",
    "     $2x_1 + 1x_2 \\leq 6$ <br>\n",
    "     $-1x_1 + x_2 = 1$ <br>\n",
    "     $x_1 \\geq 0$ <br>\n",
    "     $x_2 \\geq 0$ "
   ]
  },
  {
   "cell_type": "code",
   "execution_count": 6,
   "metadata": {
    "ExecuteTime": {
     "end_time": "2024-10-17T15:35:43.001942Z",
     "start_time": "2024-10-17T15:35:42.976869900Z"
    }
   },
   "outputs": [
    {
     "data": {
      "text/plain": "test-problem:\nMAXIMIZE\n4*x1 + 2*x2 + 0\nSUBJECT TO\n#1_constraint: x1 + x2 >= 1\n\n#2_constraint: 2 x1 + x2 <= 6\n\n#3_constraint: - x1 + x2 = 1\n\nVARIABLES\nx1 Continuous\nx2 Continuous"
     },
     "execution_count": 6,
     "metadata": {},
     "output_type": "execute_result"
    }
   ],
   "source": [
    "# Problem\n",
    "model = LpProblem(name=\"test-problem\", sense=LpMaximize)\n",
    "\n",
    "x1 = LpVariable(name=\"x1\", lowBound=0)\n",
    "x2 = LpVariable(name=\"x2\", lowBound=0)\n",
    "\n",
    "model += (1 * x1 + 1*x2 >= 1, \"#1 constraint\")\n",
    "model += (2 * x1 + 1*x2 <= 6, \"#2 constraint\")\n",
    "model += (-1 * x1 + 1*x2 == 1, \"#3 constraint\")\n",
    "\n",
    "# Objective function\n",
    "obj_func = 4*x1 + 2 * x2\n",
    "model += obj_func\n",
    "\n",
    "model"
   ]
  },
  {
   "cell_type": "code",
   "execution_count": 7,
   "metadata": {
    "ExecuteTime": {
     "end_time": "2024-10-17T15:35:43.078087900Z",
     "start_time": "2024-10-17T15:35:42.987939900Z"
    }
   },
   "outputs": [],
   "source": [
    "# Solve the problem\n",
    "status = model.solve()"
   ]
  },
  {
   "cell_type": "code",
   "execution_count": 8,
   "metadata": {
    "ExecuteTime": {
     "end_time": "2024-10-17T15:35:43.098532400Z",
     "start_time": "2024-10-17T15:35:43.024221900Z"
    }
   },
   "outputs": [
    {
     "name": "stdout",
     "output_type": "stream",
     "text": [
      "status: 1, Optimal\n"
     ]
    }
   ],
   "source": [
    "# Print status\n",
    "print(f\"status: {model.status}, {LpStatus[model.status]}\")"
   ]
  },
  {
   "cell_type": "code",
   "execution_count": 9,
   "metadata": {
    "ExecuteTime": {
     "end_time": "2024-10-17T15:35:43.100533400Z",
     "start_time": "2024-10-17T15:35:43.032117200Z"
    }
   },
   "outputs": [
    {
     "name": "stdout",
     "output_type": "stream",
     "text": [
      "objective: 12.000000199999999\n"
     ]
    }
   ],
   "source": [
    "# Print objective value\n",
    "print(f\"objective: {model.objective.value()}\")"
   ]
  },
  {
   "cell_type": "code",
   "execution_count": 10,
   "metadata": {
    "ExecuteTime": {
     "end_time": "2024-10-17T15:35:43.100533400Z",
     "start_time": "2024-10-17T15:35:43.043230800Z"
    }
   },
   "outputs": [
    {
     "name": "stdout",
     "output_type": "stream",
     "text": [
      "#1_constraint: 3.3333334\n",
      "#2_constraint: 9.999999983634211e-08\n",
      "#3_constraint: 0.0\n"
     ]
    }
   ],
   "source": [
    "# Print constraint values\n",
    "for name, constraint in model.constraints.items():  print(f\"{name}: {constraint.value()}\")"
   ]
  },
  {
   "cell_type": "code",
   "execution_count": 11,
   "metadata": {
    "ExecuteTime": {
     "end_time": "2024-10-17T15:35:43.102528300Z",
     "start_time": "2024-10-17T15:35:43.053389900Z"
    }
   },
   "outputs": [
    {
     "data": {
      "text/plain": "[x1, x2]"
     },
     "execution_count": 11,
     "metadata": {},
     "output_type": "execute_result"
    }
   ],
   "source": [
    "model.variables()"
   ]
  },
  {
   "cell_type": "code",
   "execution_count": 12,
   "metadata": {
    "ExecuteTime": {
     "end_time": "2024-10-17T15:35:43.102528300Z",
     "start_time": "2024-10-17T15:35:43.065635400Z"
    }
   },
   "outputs": [
    {
     "name": "stdout",
     "output_type": "stream",
     "text": [
      "1.6666667\n",
      "2.6666667\n"
     ]
    }
   ],
   "source": [
    "print(x1.value())\n",
    "print(x2.value())"
   ]
  },
  {
   "cell_type": "markdown",
   "metadata": {},
   "source": [
    "### The same code but using dictionaries and other nice tricks\n"
   ]
  },
  {
   "cell_type": "code",
   "execution_count": 13,
   "metadata": {
    "ExecuteTime": {
     "end_time": "2024-10-17T15:35:43.122800100Z",
     "start_time": "2024-10-17T15:35:43.074090500Z"
    }
   },
   "outputs": [],
   "source": [
    "model = LpProblem(name=\"some-problem\", sense=LpMaximize)"
   ]
  },
  {
   "cell_type": "code",
   "execution_count": 14,
   "metadata": {
    "ExecuteTime": {
     "end_time": "2024-10-17T15:35:43.123799500Z",
     "start_time": "2024-10-17T15:35:43.085745800Z"
    }
   },
   "outputs": [
    {
     "data": {
      "text/plain": "{'First': x_First, 'Second': x_Second}"
     },
     "execution_count": 14,
     "metadata": {},
     "output_type": "execute_result"
    }
   ],
   "source": [
    "var_names = [\"First\", \"Second\"]\n",
    "x = LpVariable.dicts(\"x\", var_names, 0)\n",
    "x"
   ]
  },
  {
   "cell_type": "code",
   "execution_count": 15,
   "metadata": {
    "ExecuteTime": {
     "end_time": "2024-10-17T15:35:43.151491700Z",
     "start_time": "2024-10-17T15:35:43.097529400Z"
    }
   },
   "outputs": [
    {
     "data": {
      "text/plain": "some-problem:\nMAXIMIZE\n4*x_First + 2*x_Second + 0\nSUBJECT TO\nGE: x_First + x_Second >= 1\n\nLE: 2 x_First + x_Second <= 6\n\nEQ: - x_First + x_Second = 1\n\nVARIABLES\nx_First Continuous\nx_Second Continuous"
     },
     "execution_count": 15,
     "metadata": {},
     "output_type": "execute_result"
    }
   ],
   "source": [
    "const_names = [\"GE\", \"LE\", \"EQ\"]\n",
    "sense = [1, -1, 0] # GE, LE, EQ\n",
    "coefs = [[1,1],[2,1],[-1,1]] # Matrix coefs\n",
    "rhs = [1, 6, 1] \n",
    "\n",
    "for c, s, r, cn in zip(coefs, sense, rhs, const_names):\n",
    "    expr = lpSum([x[var_names[i]] * c[i] for i in range(2)])\n",
    "    model += LpConstraint(e=expr, sense = s, name = cn, rhs = r)\n",
    "    \n",
    "obj_coefs = [4,2]\n",
    "model += lpSum([x[var_names[i]] * obj_coefs[i] for i in range(2)])\n",
    "    \n",
    "model"
   ]
  },
  {
   "cell_type": "code",
   "execution_count": 16,
   "metadata": {
    "ExecuteTime": {
     "end_time": "2024-10-17T15:35:43.309972400Z",
     "start_time": "2024-10-17T15:35:43.109801800Z"
    }
   },
   "outputs": [
    {
     "name": "stdout",
     "output_type": "stream",
     "text": [
      "status: 1, Optimal\n",
      "objective: 12.000000199999999\n",
      "1.6666667\n",
      "2.6666667\n"
     ]
    }
   ],
   "source": [
    "status = model.solve()\n",
    "print(f\"status: {model.status}, {LpStatus[model.status]}\")\n",
    "print(f\"objective: {model.objective.value()}\")\n",
    "for n in var_names: print(x[n].value())"
   ]
  },
  {
   "cell_type": "markdown",
   "metadata": {},
   "source": [
    "# Homework - use the PuLP library to solve the following OR problem "
   ]
  },
  {
   "cell_type": "markdown",
   "metadata": {},
   "source": [
    "Johnson & Sons company manufactures 6 types of toys. Each toy is produced by utilizing at least one Machine 1-4, requiring a different production time (see Table below). For instance, product A requires 4 minutes on Machine 1, 4 minutes on Machine 2, 0 Minutes on Machine 3, and 0 minutes on Machine 4 (all machines must be utilized to produce a toy unless the production time equals 0). Each machine is available for a different number of hours per week. The company aims to identify the number (product-mix) of toys that must be manufactured to maximize the income (can be continuous). Notably, each toy can be sold for a different price. Due to market expectations, the company wants to manufacture twice as many F toys as A. Furthermore, the number of toys B should equal C. Solve this problem using the PuLP library. Prepare a report (in the jupyter notebook) containing information on the following:\n",
    "<ol>\n",
    "<li>The number of toys to manufacture;</li>\n",
    "<li>The expected income;</li>\n",
    "<li>The production time required on each machine;</li>\n",
    "</ol>\n",
    "Consider the total and partial values, i.e., considered for each toy A-F separately (e.g., income resulting from selling toy A). Also, answer the following questions concerning the found solution:\n",
    "<ol>\n",
    "<li>Which toy(s) production should be focused on?  </li>\n",
    "<li>Is there a toy that can be excluded from consideration for production? </li>\n",
    "<li>Is there a machine that is not fully utilized?</li>\n",
    "</ol>"
   ]
  },
  {
   "cell_type": "markdown",
   "metadata": {},
   "source": [
    "| Toy | Machine 1 | Machine 2 | Machine 3 | Machine 4 | Selling price |\n",
    "| --- | --- | --- | --- | --- | --- |\n",
    "| A | 4 (minutes!) | 4 | 0 | 0 | 2.50 USD |\n",
    "| B | 0 | 3 | 3 | 0 | 1.00 USD |\n",
    "| C | 5 | 0 | 2 | 5 | 4.00 USD |\n",
    "| D | 2 | 4 | 0 | 4 | 3.00 USD |\n",
    "| E | 0 | 4 | 5 | 2 | 3.50 USD |\n",
    "| F | 2 | 2 | 1 | 1 | 4.00 USD |\n",
    "| Production time limit (hours!) | 120 | 60 |  80 |  120 |  |"
   ]
  },
  {
   "cell_type": "code",
   "execution_count": 17,
   "outputs": [],
   "source": [
    "model = LpProblem(name=\"johnson-and-sons-problem\", sense=LpMaximize)"
   ],
   "metadata": {
    "collapsed": false,
    "ExecuteTime": {
     "end_time": "2024-10-17T15:35:43.310971600Z",
     "start_time": "2024-10-17T15:35:43.139818600Z"
    }
   }
  },
  {
   "cell_type": "code",
   "execution_count": 18,
   "outputs": [
    {
     "data": {
      "text/plain": "{'A': x_A, 'B': x_B, 'C': x_C, 'D': x_D, 'E': x_E, 'F': x_F}"
     },
     "execution_count": 18,
     "metadata": {},
     "output_type": "execute_result"
    }
   ],
   "source": [
    "var_names = [\"A\", \"B\", \"C\", \"D\", \"E\", \"F\"]\n",
    "x = LpVariable.dicts(\"x\", var_names, 0)\n",
    "x"
   ],
   "metadata": {
    "collapsed": false,
    "ExecuteTime": {
     "end_time": "2024-10-17T15:35:43.313974400Z",
     "start_time": "2024-10-17T15:35:43.146489600Z"
    }
   }
  },
  {
   "cell_type": "code",
   "execution_count": 19,
   "outputs": [
    {
     "data": {
      "text/plain": "johnson-and-sons-problem:\nMAXIMIZE\n2.5*x_A + 1*x_B + 4*x_C + 3*x_D + 3.5*x_E + 4*x_F + 0.0\nSUBJECT TO\nM1: 4 x_A + 5 x_C + 2 x_D + 2 x_F <= 7200\n\nM2: 4 x_A + 3 x_B + 4 x_D + 4 x_E + 2 x_F <= 3600\n\nM3: 3 x_B + 2 x_C + 5 x_E + x_F <= 4800\n\nM4: 5 x_C + 4 x_D + 2 x_E + x_F <= 7200\n\nC1: - x_A + 2 x_F = 0\n\nC2: x_B - x_C = 0\n\nVARIABLES\nx_A Continuous\nx_B Continuous\nx_C Continuous\nx_D Continuous\nx_E Continuous\nx_F Continuous"
     },
     "execution_count": 19,
     "metadata": {},
     "output_type": "execute_result"
    }
   ],
   "source": [
    "const_names = [\"M1\", \"M2\", \"M3\", \"M4\", \"C1\", \"C2\"]\n",
    "sense = [-1, -1, -1, -1, 0, 0]\n",
    "coefs = [[4, 0, 5, 2, 0, 2], \n",
    "         [4, 3, 0, 4, 4, 2], \n",
    "         [0, 3, 2, 0, 5, 1], \n",
    "         [0, 0, 5, 4, 2, 1], \n",
    "         [-1, 0, 0, 0, 0, 2],\n",
    "         [0, 1, -1, 0, 0, 0]]\n",
    "rhs = [7200, 3600, 4800, 7200, 0, 0] \n",
    "\n",
    "for c, s, r, cn in zip(coefs, sense, rhs, const_names):\n",
    "    expr = lpSum([x[var_names[i]] * c[i] for i in range(6)])\n",
    "    model += LpConstraint(e=expr, sense = s, name = cn, rhs = r)\n",
    "    \n",
    "obj_coefs = [2.5, 1, 4, 3, 3.5, 4]\n",
    "model += lpSum([x[var_names[i]] * obj_coefs[i] for i in range(6)])\n",
    "\n",
    "model"
   ],
   "metadata": {
    "collapsed": false,
    "ExecuteTime": {
     "end_time": "2024-10-17T15:35:43.314973200Z",
     "start_time": "2024-10-17T15:35:43.162137400Z"
    }
   }
  },
  {
   "cell_type": "markdown",
   "source": [
    "### 1. The number of toys to manufacture"
   ],
   "metadata": {
    "collapsed": false
   }
  },
  {
   "cell_type": "code",
   "execution_count": 20,
   "outputs": [
    {
     "name": "stdout",
     "output_type": "stream",
     "text": [
      "Toy 'A': 153.19149 toys\n",
      "Toy 'B': 944.68085 toys\n",
      "Toy 'C': 944.68085 toys\n",
      "Toy 'D': 0.0 toys\n",
      "Toy 'E': 0.0 toys\n",
      "Toy 'F': 76.595745 toys\n"
     ]
    }
   ],
   "source": [
    "status = model.solve()\n",
    "\n",
    "n_of_toys = np.array([x[el].value() for el in x.keys()])\n",
    "for n in var_names: print(f\"Toy '{n}': {x[n].value()} toys\")"
   ],
   "metadata": {
    "collapsed": false,
    "ExecuteTime": {
     "end_time": "2024-10-17T15:35:43.326972900Z",
     "start_time": "2024-10-17T15:35:43.174487800Z"
    }
   }
  },
  {
   "cell_type": "markdown",
   "source": [
    "### 2. The expected income"
   ],
   "metadata": {
    "collapsed": false
   }
  },
  {
   "cell_type": "code",
   "execution_count": 21,
   "outputs": [
    {
     "name": "stdout",
     "output_type": "stream",
     "text": [
      "The expected income: 5412.765955\n"
     ]
    }
   ],
   "source": [
    "print(f\"The expected income: {model.objective.value()}\")"
   ],
   "metadata": {
    "collapsed": false,
    "ExecuteTime": {
     "end_time": "2024-10-17T15:35:43.327972300Z",
     "start_time": "2024-10-17T15:35:43.203109500Z"
    }
   }
  },
  {
   "cell_type": "markdown",
   "source": [
    "### 3. The production time required on each machine"
   ],
   "metadata": {
    "collapsed": false
   }
  },
  {
   "cell_type": "code",
   "execution_count": 22,
   "outputs": [
    {
     "name": "stdout",
     "output_type": "stream",
     "text": [
      "Machine 1 worked: 91.49 hours\n",
      "Machine 2 worked: 60.0 hours\n",
      "Machine 3 worked: 80.0 hours\n",
      "Machine 4 worked: 80.0 hours\n"
     ]
    }
   ],
   "source": [
    "for i in range(4):\n",
    "    print(f\"Machine {i+1} worked: {round(sum(n_of_toys * coefs[i]) / 60, 2)} hours\")"
   ],
   "metadata": {
    "collapsed": false,
    "ExecuteTime": {
     "end_time": "2024-10-17T15:35:43.327972300Z",
     "start_time": "2024-10-17T15:35:43.209633Z"
    }
   }
  },
  {
   "cell_type": "markdown",
   "source": [
    "### 4. Which toy(s) production should be focused on?\n",
    "\n",
    "Based on the data presented below the cell, Toy C brings the most profit (approximately 3778.72$), so, logically, company should focus on its production."
   ],
   "metadata": {
    "collapsed": false
   }
  },
  {
   "cell_type": "code",
   "execution_count": 23,
   "outputs": [
    {
     "name": "stdout",
     "output_type": "stream",
     "text": [
      "Toy A brings 382.98$ per week\n",
      "Toy B brings 944.68$ per week\n",
      "Toy C brings 3778.72$ per week\n",
      "Toy D brings 0.0$ per week\n",
      "Toy E brings 0.0$ per week\n",
      "Toy F brings 306.38$ per week\n"
     ]
    }
   ],
   "source": [
    "for i, n in enumerate(var_names):\n",
    "    print(f\"Toy {n} brings {round(x[n].value() * obj_coefs[i], 2)}$ per week\")"
   ],
   "metadata": {
    "collapsed": false,
    "ExecuteTime": {
     "end_time": "2024-10-17T15:35:43.329975Z",
     "start_time": "2024-10-17T15:35:43.218515600Z"
    }
   }
  },
  {
   "cell_type": "markdown",
   "source": [
    "### 5. Is there a toy that can be excluded from consideration for production?\n",
    "\n",
    "As we've already seen above, the optimal solution implies zero production of Toys D and E, so the Toy D and the Toy E can be excluded from consideration for production. To test that we would run the same model but without Toys D and E and the constraints they provide. The numbers for produced toys should stay the same."
   ],
   "metadata": {
    "collapsed": false
   }
  },
  {
   "cell_type": "code",
   "execution_count": 24,
   "outputs": [
    {
     "name": "stdout",
     "output_type": "stream",
     "text": [
      "Toy 'A': 153.19149 toys (153.19149 toys -> previously)\n",
      "Toy 'B': 944.68085 toys (944.68085 toys -> previously)\n",
      "Toy 'C': 944.68085 toys (944.68085 toys -> previously)\n",
      "Toy 'F': 76.595745 toys (76.595745 toys -> previously)\n"
     ]
    }
   ],
   "source": [
    "model_5 = LpProblem(name=\"johnson-and-sons-problem-5\", sense=LpMaximize)\n",
    "var_names_5 = [\"A\", \"B\", \"C\", \"F\"]\n",
    "x_5 = LpVariable.dicts(\"x\", var_names_5, 0)\n",
    "\n",
    "const_names_5 = [\"M1\", \"M2\", \"M3\", \"M4\", \"C1\", \"C2\"]\n",
    "sense_5 = [-1, -1, -1, -1, 0, 0]\n",
    "coefs_5 = [[4, 0, 5, 2],\n",
    "         [4, 3, 0, 2],\n",
    "         [0, 3, 2, 1],\n",
    "         [0, 0, 5, 1],\n",
    "         [-1, 0, 0, 2],\n",
    "         [0, 1, -1, 0]]\n",
    "rhs_5 = [7200, 3600, 4800, 7200, 0, 0]\n",
    "\n",
    "for c, s, r, cn in zip(coefs_5, sense_5, rhs_5, const_names_5):\n",
    "    expr_5 = lpSum([x_5[var_names_5[i]] * c[i] for i in range(4)])\n",
    "    model_5 += LpConstraint(e=expr_5, sense=s, name=cn, rhs=r)\n",
    "    \n",
    "obj_coefs_5 = [2.5, 1, 4, 4]\n",
    "model_5 += lpSum([x_5[var_names_5[i]] * obj_coefs_5[i] for i in range(4)])\n",
    "\n",
    "status = model_5.solve()\n",
    "\n",
    "for n in var_names_5: print(f\"Toy '{n}': {x_5[n].value()} toys ({x[n].value()} toys -> previously)\")"
   ],
   "metadata": {
    "collapsed": false,
    "ExecuteTime": {
     "end_time": "2024-10-17T15:35:43.332975900Z",
     "start_time": "2024-10-17T15:35:43.228395400Z"
    }
   }
  },
  {
   "cell_type": "markdown",
   "source": [
    "As we see the number of produced toys (as expected) didn't change when Toys D and E were not considered."
   ],
   "metadata": {
    "collapsed": false
   }
  },
  {
   "cell_type": "markdown",
   "source": [
    "### 6. Is there a machine that is not fully utilized?\n",
    "\n",
    "As we can see from the data below, Machine 1 and Machine 4 were not used to maximal extend."
   ],
   "metadata": {
    "collapsed": false
   }
  },
  {
   "cell_type": "code",
   "execution_count": 25,
   "outputs": [
    {
     "name": "stdout",
     "output_type": "stream",
     "text": [
      "Machine 1 is used: 91.49 / 120.0 hours (28.510000000000005 hours left)\n",
      "Machine 2 is used: 60.0 / 60.0 hours (0.0 hours left)\n",
      "Machine 3 is used: 80.0 / 80.0 hours (0.0 hours left)\n",
      "Machine 4 is used: 80.0 / 120.0 hours (40.0 hours left)\n"
     ]
    }
   ],
   "source": [
    "for i in range(4):\n",
    "    print(f\"Machine {i+1} is used: {round(sum(n_of_toys * coefs[i]) / 60, 2)} / {rhs[i] / 60} hours ({rhs[i] / 60 - round(sum(n_of_toys * coefs[i]) / 60, 2)} hours left)\")"
   ],
   "metadata": {
    "collapsed": false,
    "ExecuteTime": {
     "end_time": "2024-10-17T15:35:43.332975900Z",
     "start_time": "2024-10-17T15:35:43.258717500Z"
    }
   }
  }
 ],
 "metadata": {
  "kernelspec": {
   "display_name": "Python 3 (ipykernel)",
   "language": "python",
   "name": "python3"
  },
  "language_info": {
   "codemirror_mode": {
    "name": "ipython",
    "version": 3
   },
   "file_extension": ".py",
   "mimetype": "text/x-python",
   "name": "python",
   "nbconvert_exporter": "python",
   "pygments_lexer": "ipython3",
   "version": "3.9.7"
  }
 },
 "nbformat": 4,
 "nbformat_minor": 4
}
